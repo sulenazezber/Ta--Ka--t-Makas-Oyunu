{
 "cells": [
  {
   "cell_type": "code",
   "execution_count": 1,
   "id": "20bafc39-7b41-4ed7-b23b-5cada7172e3f",
   "metadata": {},
   "outputs": [
    {
     "name": "stdin",
     "output_type": "stream",
     "text": [
      "Aşağıdaki verilerden birini giriniz.(Sistem büyük-küçük harflere ve duyarlıdır.)\n",
      " Taş-Kağıt-Makas Tas\n"
     ]
    },
    {
     "name": "stdout",
     "output_type": "stream",
     "text": [
      "Yanlış veri girdiniz\n"
     ]
    },
    {
     "name": "stdin",
     "output_type": "stream",
     "text": [
      "Yeni bir veri giriniz Taş\n"
     ]
    },
    {
     "name": "stdout",
     "output_type": "stream",
     "text": [
      "Berabere kaldınız!\n"
     ]
    },
    {
     "name": "stdin",
     "output_type": "stream",
     "text": [
      "Yeni bir veri giriniz Taş\n"
     ]
    },
    {
     "name": "stdout",
     "output_type": "stream",
     "text": [
      "Turu bilgisayar kazandı!\n"
     ]
    },
    {
     "name": "stdin",
     "output_type": "stream",
     "text": [
      "Yeni bir veri giriniz Taş\n"
     ]
    },
    {
     "name": "stdout",
     "output_type": "stream",
     "text": [
      "Turu siz kazandınız!\n"
     ]
    },
    {
     "name": "stdin",
     "output_type": "stream",
     "text": [
      "Yeni bir veri giriniz Taş\n"
     ]
    },
    {
     "name": "stdout",
     "output_type": "stream",
     "text": [
      "Berabere kaldınız!\n"
     ]
    },
    {
     "name": "stdin",
     "output_type": "stream",
     "text": [
      "Yeni bir veri giriniz Taş\n"
     ]
    },
    {
     "name": "stdout",
     "output_type": "stream",
     "text": [
      "Turu bilgisayar kazandı!\n",
      "Oyunu Kaybettiniz!\n",
      "Oyun sonlandı!\n"
     ]
    }
   ],
   "source": [
    "import random \n",
    "secenekler=[\"Taş\",\"Kağıt\",\"Makas\"]\n",
    "kullanıcı_pc= random.choice(secenekler)\n",
    "kullanıcı_hmn=input(\"Aşağıdaki verilerden birini giriniz.(Sistem büyük-küçük harflere ve duyarlıdır.)\\n Taş-Kağıt-Makas\")\n",
    "tur=0\n",
    "human=0\n",
    "pc=0\n",
    "while True:\n",
    "\n",
    "  if kullanıcı_pc== \"Taş\" and kullanıcı_hmn== \"Kağıt\":\n",
    "    print(\"Turu siz kazandınız!\")\n",
    "    tur=tur+1\n",
    "    human=human+1\n",
    "  elif kullanıcı_pc== \"Taş\" and kullanıcı_hmn== \"Makas\":\n",
    "    print(\"Turu bilgisayar kazandı!\")\n",
    "    tur=tur+1\n",
    "    pc=pc+1\n",
    "  elif kullanıcı_pc== \"Kağıt\" and kullanıcı_hmn== \"Taş\":\n",
    "    print(\"Turu bilgisayar kazandı!\")\n",
    "    tur=tur+1\n",
    "    pc=pc+1\n",
    "  elif kullanıcı_pc== \"Kağıt\" and kullanıcı_hmn== \"Makas\":\n",
    "    print(\"Turu siz kazandınız\")\n",
    "    tur=tur+1\n",
    "    human=human+1\n",
    "  elif kullanıcı_pc== \"Makas\" and kullanıcı_hmn== \"Taş\":\n",
    "    print(\"Turu siz kazandınız!\")\n",
    "    tur=tur+1\n",
    "    human=human+1\n",
    "  elif kullanıcı_pc== \"Makas\" and kullanıcı_hmn== \"Kağıt\":\n",
    "    print(\"Turu bilgisayar kazandı!\")\n",
    "    tur=tur+1\n",
    "    pc=pc+1\n",
    "  elif kullanıcı_pc== kullanıcı_hmn:\n",
    "    print(\"Berabere kaldınız!\")\n",
    "    tur=tur+0 \n",
    "  else:\n",
    "   print(\"Yanlış veri girdiniz\")\n",
    "  \n",
    "  if pc==2 or pc==3:\n",
    "    print(\"Oyunu Kaybettiniz!\")\n",
    "  elif human==2 or human==3:\n",
    "    print(\"Oyunu Kazandınız!\")  \n",
    "    \n",
    "  if tur>=3:\n",
    "    print(\"Oyun sonlandı!\")\n",
    "    break\n",
    "  \n",
    "  kullanıcı_pc=random.choice(secenekler)\n",
    "  kullanıcı_hmn= input(\"Yeni bir veri giriniz\")"
   ]
  },
  {
   "cell_type": "code",
   "execution_count": null,
   "id": "6433772f-4348-4601-b080-252686df4ea9",
   "metadata": {},
   "outputs": [],
   "source": []
  }
 ],
 "metadata": {
  "kernelspec": {
   "display_name": "Python 3 (ipykernel)",
   "language": "python",
   "name": "python3"
  },
  "language_info": {
   "codemirror_mode": {
    "name": "ipython",
    "version": 3
   },
   "file_extension": ".py",
   "mimetype": "text/x-python",
   "name": "python",
   "nbconvert_exporter": "python",
   "pygments_lexer": "ipython3",
   "version": "3.9.7"
  }
 },
 "nbformat": 4,
 "nbformat_minor": 5
}
